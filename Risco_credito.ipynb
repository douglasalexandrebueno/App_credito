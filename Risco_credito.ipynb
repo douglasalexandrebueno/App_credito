{
  "nbformat": 4,
  "nbformat_minor": 0,
  "metadata": {
    "colab": {
      "provenance": []
    },
    "kernelspec": {
      "display_name": "Python 3",
      "language": "python",
      "name": "python3"
    },
    "language_info": {
      "codemirror_mode": {
        "name": "ipython",
        "version": 3
      },
      "file_extension": ".py",
      "mimetype": "text/x-python",
      "name": "python",
      "nbconvert_exporter": "python",
      "pygments_lexer": "ipython3",
      "version": "3.8.0"
    }
  },
  "cells": [
    {
      "cell_type": "markdown",
      "metadata": {
        "id": "C4PaRjZAqwmx"
      },
      "source": [
        "###### ** **Descrição** **\n",
        "\n",
        "* **id_cliente**  : Número de identificação única do cliente\n",
        "* **inad**        : Índice de inadimplência do cliente\n",
        "* **Saldo_contas**: Índice referente aos saldos das contas corrente, poupança e aplicações do cliente\n",
        "* **Class_Renda** : Índice referente à classificação do cliente de acordo com sua renda.\n",
        "* **Anotações**   : Índice referente às anotações externas à empresa, tais como anotações SERASA / SPC / BACEN\n",
        "* **Risco**       : Risco do Cliente atribuído dadas as variáveis de análise do cliente"
      ]
    },
    {
      "cell_type": "code",
      "metadata": {
        "id": "6BZ-jLOunczC"
      },
      "source": [
        "# Importando Bibliotecas\n",
        "import pandas as pd\n",
        "import numpy as np\n",
        "import matplotlib.pyplot as plt\n",
        "import seaborn as sns\n",
        "from sklearn.model_selection import train_test_split\n",
        "from sklearn.neighbors import KNeighborsClassifier\n",
        "from sklearn import metrics\n",
        "%matplotlib inline"
      ],
      "execution_count": 1,
      "outputs": []
    },
    {
      "cell_type": "code",
      "metadata": {
        "id": "WKtERLr9n09B"
      },
      "source": [
        "dataset = pd.read_csv('/content/risco.csv')"
      ],
      "execution_count": 32,
      "outputs": []
    },
    {
      "cell_type": "code",
      "metadata": {
        "id": "lB0QoX8n3BEs"
      },
      "source": [
        "dataset.head()"
      ],
      "execution_count": null,
      "outputs": []
    },
    {
      "cell_type": "code",
      "metadata": {
        "id": "FSLSYaIfHxo8"
      },
      "source": [
        "# Informação sobre os dados do dataset\n",
        "dataset.info()"
      ],
      "execution_count": null,
      "outputs": []
    },
    {
      "cell_type": "code",
      "metadata": {
        "id": "DA8sCmcbcrhN"
      },
      "source": [
        "#Verifica as dimensões do dataset\n",
        "dataset.shape"
      ],
      "execution_count": null,
      "outputs": []
    },
    {
      "cell_type": "code",
      "metadata": {
        "id": "2G8LjcZ4b_po"
      },
      "source": [
        "#Estatísticas descritivas das variáveis numéricas\n",
        "dataset.describe()"
      ],
      "execution_count": null,
      "outputs": []
    },
    {
      "cell_type": "code",
      "metadata": {
        "id": "Xao3kHmycFGK"
      },
      "source": [
        "# Tabela de Frequência da Variável Alvo\n",
        "dataset['Risco'].value_counts()\n"
      ],
      "execution_count": null,
      "outputs": []
    },
    {
      "cell_type": "code",
      "metadata": {
        "id": "1fncTNJ136vB"
      },
      "source": [
        "# Visualização gráfica variáves alvo\n",
        "sns.countplot(dataset['Risco']);"
      ],
      "execution_count": null,
      "outputs": []
    },
    {
      "cell_type": "code",
      "metadata": {
        "id": "Pr-7J--Db_14"
      },
      "source": [
        "# Verificação de dados ausentes\n",
        "dataset.isna().sum()"
      ],
      "execution_count": null,
      "outputs": []
    },
    {
      "cell_type": "code",
      "metadata": {
        "id": "uduJWrPw-0YB"
      },
      "source": [
        "# Eliminação de dados não relavantes\n",
        "dataset = dataset.drop(columns=['id_cliente'])"
      ],
      "execution_count": 35,
      "outputs": []
    },
    {
      "cell_type": "code",
      "metadata": {
        "id": "i2w2ikIl_IGf"
      },
      "source": [
        "dataset"
      ],
      "execution_count": null,
      "outputs": []
    },
    {
      "cell_type": "code",
      "metadata": {
        "id": "DfFSzpSMAoFU"
      },
      "source": [
        "# Identificação de outliers\n",
        "from matplotlib import pyplot\n",
        "dataset.plot(kind='box', subplots=True, layout=(2,2), sharex=False, sharey=False)\n",
        "pyplot.show()"
      ],
      "execution_count": null,
      "outputs": []
    },
    {
      "cell_type": "code",
      "metadata": {
        "id": "89wQbfgzBqQS"
      },
      "source": [
        "# Visualizando a distribuição dos dados\n",
        "dataset.hist()\n",
        "plt.show()"
      ],
      "execution_count": null,
      "outputs": []
    },
    {
      "cell_type": "code",
      "metadata": {
        "id": "p_dvoe928qrU"
      },
      "source": [
        "# Criando visualização gráfica de dispersão (scatter)\n",
        "sns.pairplot(dataset, hue='Risco', kind=\"reg\");"
      ],
      "execution_count": null,
      "outputs": []
    },
    {
      "cell_type": "code",
      "metadata": {
        "id": "Y00FGE3h_bnG"
      },
      "source": [
        "# Criação do Gráfico de dispersão sem agregar pelo TARGET\n",
        "sns.pairplot(dataset,kind=\"reg\");"
      ],
      "execution_count": null,
      "outputs": []
    },
    {
      "cell_type": "code",
      "metadata": {
        "id": "G5WuUWRFn4j8"
      },
      "source": [
        "# Separando as Variáveis de Entrada e Saída do Modelo\n",
        "X = dataset.iloc[:,:-1].values  #variáveis independentes\n",
        "y = dataset.iloc[:,-1].values  #Target/labe/class/vairável dependente"
      ],
      "execution_count": 23,
      "outputs": []
    },
    {
      "cell_type": "code",
      "metadata": {
        "id": "-bZ82kVbn7Ga"
      },
      "source": [
        "# Imprimindo as variáveis X e Y\n",
        "print(\"\\nVariáveis de Entrada da avaliação:\\n\\n\", X[:3])\n",
        "print(\"\\nRisco - Variável a ser Predita :\\n\\n\", y[:3])"
      ],
      "execution_count": null,
      "outputs": []
    },
    {
      "cell_type": "code",
      "metadata": {
        "id": "TnFgcVnO4R4A"
      },
      "source": [
        "X"
      ],
      "execution_count": null,
      "outputs": []
    },
    {
      "cell_type": "code",
      "metadata": {
        "id": "ALfXSeZ1KJ4b"
      },
      "source": [
        "y"
      ],
      "execution_count": null,
      "outputs": []
    },
    {
      "cell_type": "code",
      "metadata": {
        "id": "Q95yEPVNku9O"
      },
      "source": [
        "# Dividindo os dados em dados de treino e teste\n",
        "X_train, X_test, y_train, y_test = train_test_split(X ,y, test_size=0.2, random_state = 1)"
      ],
      "execution_count": 26,
      "outputs": []
    },
    {
      "cell_type": "code",
      "metadata": {
        "id": "YcY06YGDn_dz"
      },
      "source": [
        "print(\"Dados de Treino :\\n----------------\\n\")\n",
        "print(\"X = \\n\", X_train[:2])\n",
        "print(\"y = \\n\", y_train[:2])\n",
        "\n",
        "print(\"\\n\\nDados de Teste :\\n----------------\\n\")\n",
        "print(\"X = \\n\",X_test[:2])\n",
        "print(\"y = \\n\", y_test[:2])"
      ],
      "execution_count": null,
      "outputs": []
    },
    {
      "cell_type": "code",
      "metadata": {
        "id": "HVa6cZd8ku9W"
      },
      "source": [
        "#Redimensionando os dados - PADRONIZAÇÂO - Feature scaling\n",
        "from sklearn.preprocessing import StandardScaler\n",
        "sc = StandardScaler()\n",
        "\n",
        "X_train = sc.fit_transform(X_train)\n",
        "X_test = sc.transform(X_test)"
      ],
      "execution_count": 44,
      "outputs": []
    },
    {
      "cell_type": "code",
      "source": [
        "X_train"
      ],
      "metadata": {
        "id": "ei9ODldTCEHg"
      },
      "execution_count": null,
      "outputs": []
    },
    {
      "cell_type": "code",
      "source": [
        "X_test"
      ],
      "metadata": {
        "id": "zZvQxsoNCGsw"
      },
      "execution_count": null,
      "outputs": []
    },
    {
      "cell_type": "code",
      "metadata": {
        "id": "8XbYFyk8oCrH"
      },
      "source": [
        "# Importando a Biblioteca KNN\n",
        "from sklearn.neighbors import KNeighborsClassifier\n",
        "model_knn = KNeighborsClassifier(n_neighbors=30)"
      ],
      "execution_count": 48,
      "outputs": []
    },
    {
      "cell_type": "code",
      "metadata": {
        "id": "YFbVAkiOyMxG"
      },
      "source": [
        "# Treinando o modelo com os dados de treino\n",
        "model_knn = model_knn.fit(X_train,y_train)"
      ],
      "execution_count": 49,
      "outputs": []
    },
    {
      "cell_type": "code",
      "metadata": {
        "id": "BBGyF8-OyQMi"
      },
      "source": [
        "# Fazendo Previsões com os dados de teste\n",
        "y_pred = model_knn.predict(X_test)\n",
        "y_pred"
      ],
      "execution_count": null,
      "outputs": []
    },
    {
      "cell_type": "code",
      "metadata": {
        "id": "ZAwiJVWuoHEX"
      },
      "source": [
        "# Avaliando a Acurácia do modelo\n",
        "from sklearn import metrics\n",
        "print(\"Acurácia do modelo = \", metrics.accuracy_score(y_test, y_pred)*100)"
      ],
      "execution_count": null,
      "outputs": []
    },
    {
      "cell_type": "code",
      "metadata": {
        "id": "dIlExZQVjiTL"
      },
      "source": [
        "# Comparando dado Real e dado Predito\n",
        "print(\"\\n Dado_real vs Dados_redito \\n------------------------------\\n\")\n",
        "error_df = pd.DataFrame({\" Dado_real\" : y_test,\n",
        "                         \" Dado_predito\" : y_pred})\n",
        "\n",
        "error_df.head(5)"
      ],
      "execution_count": null,
      "outputs": []
    },
    {
      "cell_type": "code",
      "metadata": {
        "id": "LVbeqzMaku9f"
      },
      "source": [
        "#Usando a confusion matrix  e o classification report para avaliar a acurácia e demais indicadores\n",
        "from sklearn.metrics import confusion_matrix, classification_report\n",
        "from sklearn import metrics\n",
        "\n",
        "print(\"Acurácia do modelo = \", metrics.accuracy_score(y_test, y_pred)*100)\n",
        "cm = confusion_matrix(y_test,y_pred)\n",
        "cr = classification_report(y_test, y_pred)\n",
        "print(cm)\n",
        "print(cr)"
      ],
      "execution_count": null,
      "outputs": []
    },
    {
      "cell_type": "code",
      "metadata": {
        "id": "z9JPD4YM59KP"
      },
      "source": [
        "# Importando a Biblioteca\n",
        "from sklearn.svm import SVC\n",
        "model_svc = SVC(kernel='linear',\n",
        "                 gamma= 1e-5  ,\n",
        "                 C=10,\n",
        "                 random_state=1)"
      ],
      "execution_count": 55,
      "outputs": []
    },
    {
      "cell_type": "code",
      "metadata": {
        "id": "uRL7gP752471"
      },
      "source": [
        "# Treinando o modelo\n",
        "model_svc.fit(X_train,y_train)"
      ],
      "execution_count": null,
      "outputs": []
    },
    {
      "cell_type": "code",
      "metadata": {
        "id": "lNEz5Vc527Ez"
      },
      "source": [
        "#Fazendo novas previsões com os dados de teste\n",
        "y_pred = model_svc.predict(X_test)\n",
        "\n",
        "y_pred"
      ],
      "execution_count": null,
      "outputs": []
    },
    {
      "cell_type": "code",
      "metadata": {
        "id": "ibAFbOsE59KT"
      },
      "source": [
        "# Calculando a Acurácia do modelo\n",
        "from sklearn import metrics\n",
        "print(\"Prediction Accuracy = \", metrics.accuracy_score(y_test, y_pred)*100)\n",
        "\n",
        "# Comparando dado Real e dado Predito\n",
        "print(\"\\n Dado_real vs Dado_predito  \\n------------------------------\\n\")\n",
        "error_df = pd.DataFrame({\"Dado_real\" : y_test,\n",
        "                         \"Dado_predito\" : y_pred})\n",
        "\n",
        "error_df.head(5)"
      ],
      "execution_count": null,
      "outputs": []
    },
    {
      "cell_type": "code",
      "metadata": {
        "id": "MnVF8dG7qvlq"
      },
      "source": [
        "\n",
        "# Usando a confusion matrix e o classification report para avaliar o modelo\n",
        "from sklearn.metrics import confusion_matrix, classification_report\n",
        "\n",
        "cm = confusion_matrix(y_test,y_pred)\n",
        "cr = classification_report(y_test, y_pred)"
      ],
      "execution_count": 63,
      "outputs": []
    },
    {
      "cell_type": "code",
      "metadata": {
        "id": "e3b7ZZOb6KkW"
      },
      "source": [
        "# Imprimindo a Confusion Matrix e o Classification Report\n",
        "print(cm)\n",
        "print(cr)"
      ],
      "execution_count": null,
      "outputs": []
    }
  ]
}